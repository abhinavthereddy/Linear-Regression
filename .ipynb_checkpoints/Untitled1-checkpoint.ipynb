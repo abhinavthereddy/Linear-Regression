{
 "cells": [
  {
   "cell_type": "code",
   "execution_count": 10,
   "metadata": {},
   "outputs": [
    {
     "name": "stdout",
     "output_type": "stream",
     "text": [
      "Weights:  [  509.77519829  2040.70340166   -38.97956441  -518.99193125\n",
      "    69.0622163    120.35698921  -610.98700811  2028.91610347\n",
      "  3573.2742884  -1018.86157122 -2557.56913787]\n",
      "\n",
      "Bias:  1469.0030645881243\n",
      "\n",
      "Predicted Test Points:  [1580.02478909 1660.96147087  212.44665581  992.788201   1415.9940206\n",
      " 1507.16970336 1349.44782924 1298.32318446 3781.65312443 3545.63890357\n",
      " 2988.64625278 1231.99870712 3215.85583187 3670.28620589 3915.60512715\n",
      " 6357.9801521  6678.19403379 7043.42836684 6639.17957353 5952.45203739\n",
      " 5396.04889378 5567.77030546 5816.59933182 4804.22572852 5105.71255406]\n",
      "\n",
      "Mean Squared Error:  335472.5997737218\n"
     ]
    }
   ],
   "source": [
    "import csv\n",
    "from pandas import DataFrame, read_csv\n",
    "import pandas as pd\n",
    "from linear_regression import Linear_Regression\n",
    "\n",
    "file = r'day (train).csv'\n",
    "x_train = pd.read_csv(file)\n",
    "y_train = np.array(x_train['cnt'])\n",
    "x_train = x_train.drop(['cnt', 'dteday', 'registered', 'casual', 'instant'], axis = 1)\n",
    "x_train = x_train.values\n",
    "\n",
    "file2 = r'day (test).csv'\n",
    "x_test = pd.read_csv(file2)\n",
    "y_test = np.array(x_test['cnt'])\n",
    "x_test = x_test.drop(['cnt', 'dteday', 'casual', 'registered', 'instant'], axis = 1)\n",
    "x_test = x_test.values\n",
    "\n",
    "model = Linear_Regression()\n",
    "model.linear_fit(x_train, y_train)\n",
    "print(\"Weights: \", model.get_weights())\n",
    "print(\"\")\n",
    "print(\"Bias: \", model.get_bias())\n",
    "print(\"\")\n",
    "y_test_predicted = model.predict(x_test)\n",
    "print(\"Predicted Test Points: \", y_test_predicted)\n",
    "print(\"\")\n",
    "print(\"Mean Squared Error: \" , model.mean_squared(y_test, model.predict(x_test)))"
   ]
  }
 ],
 "metadata": {
  "kernelspec": {
   "display_name": "Python 3",
   "language": "python",
   "name": "python3"
  },
  "language_info": {
   "codemirror_mode": {
    "name": "ipython",
    "version": 3
   },
   "file_extension": ".py",
   "mimetype": "text/x-python",
   "name": "python",
   "nbconvert_exporter": "python",
   "pygments_lexer": "ipython3",
   "version": "3.6.5"
  }
 },
 "nbformat": 4,
 "nbformat_minor": 2
}
