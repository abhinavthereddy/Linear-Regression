{
 "cells": [
  {
   "cell_type": "code",
   "execution_count": null,
   "metadata": {},
   "outputs": [],
   "source": [
    "import numpy as np\n",
    "from numpy.linalg import inv\n",
    "   \n",
    "\n",
    "def add_padding (X):\n",
    "    n,m = X.shape # for generality\n",
    "    X0 = np.ones((n,1))\n",
    "    Xnew = np.hstack((X0,X))\n",
    "    return Xnew\n",
    "\n",
    "def coefficient (x,y):\n",
    "    xtx = (np.matmul(np.transpose(x),x))\n",
    "    xtx_inverse = inv(xtx)\n",
    "    coeff = np.matmul(np.matmul(xtx_inverse, np.transpose(x)), y)\n",
    "    return coeff\n",
    "\n",
    "def predict(coeff, x):\n",
    "    x_test = add_padding(x)\n",
    "    y = np.matmul(coeff, np.transpose(x_test))\n",
    "    return y\n",
    "\n",
    "def mean_squared(x, y):\n",
    "    if len(x) != len (y):\n",
    "        return(\"Dimensions of inputs not same\")        \n",
    "    else:\n",
    "        sum = 0\n",
    "        for i in range(len(x)):\n",
    "            sum += (x[i]-y[i])**2\n",
    "        return sum    \n",
    "\n",
    "class Linear_Regression:\n",
    "    \n",
    "    def linear_fit(self, x_train, y_train):\n",
    "        x = add_padding(x_train)\n",
    "        coeff = coefficient(x, y_train)\n",
    "        self.coeff = coeff\n",
    "        \n",
    "    def linear_predict (self, x_test):\n",
    "        x = add_padding(x_train)\n",
    "        y_predict = predict (coeff, x_test)\n",
    "        return y_predict\n",
    "    \n",
    "    def get_weights(self):\n",
    "        return coeff[1:]\n",
    "    \n",
    "    def get_bias (self):\n",
    "        return coeff[1]"
   ]
  },
  {
   "cell_type": "code",
   "execution_count": null,
   "metadata": {},
   "outputs": [],
   "source": []
  },
  {
   "cell_type": "code",
   "execution_count": null,
   "metadata": {},
   "outputs": [],
   "source": []
  }
 ],
 "metadata": {
  "kernelspec": {
   "display_name": "Python 3",
   "language": "python",
   "name": "python3"
  },
  "language_info": {
   "codemirror_mode": {
    "name": "ipython",
    "version": 3
   },
   "file_extension": ".py",
   "mimetype": "text/x-python",
   "name": "python",
   "nbconvert_exporter": "python",
   "pygments_lexer": "ipython3",
   "version": "3.6.5"
  }
 },
 "nbformat": 4,
 "nbformat_minor": 2
}
